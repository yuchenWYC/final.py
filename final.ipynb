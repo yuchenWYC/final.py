{
 "cells": [
  {
   "cell_type": "code",
   "execution_count": 4,
   "metadata": {},
   "outputs": [],
   "source": [
    "def calculate_final(perc: int, scores: list, bonus: int) -> float:\n",
    "    \"\"\"\n",
    "    Print a lower bound score for the final exam in order \n",
    "    to get an A (85)\n",
    "    perc: the weight of the final exam\n",
    "    scores: the scores you have right now, \n",
    "    key is a weight, value is the score you got\n",
    "    \n",
    "    >>> my_scores = [(0.2, 83), (0.25, 100), (0.05, 100)]\n",
    "    >>> perc = 0.5\n",
    "    >>> calculate_final(perc, my_scores, 0)\n",
    "    \"\"\"\n",
    "    my_sum = 0\n",
    "    sum_weights = 0\n",
    "    for pair in scores:\n",
    "        my_sum += pair[0] * pair[1]\n",
    "        sum_weights += pair[0]\n",
    "    assert sum_weights + perc == 1\n",
    "    lost = 100 * (1 - perc) - my_sum - bonus\n",
    "    print(\"Lost score:\", lost)\n",
    "    print(\"Needed final score for 4.0: \", round(100 - ((15.5 - lost) / perc), 1))\n",
    "    print(\"Needed final score for A+: \", round(100 - ((10.5 - lost) / perc), 1))"
   ]
  },
  {
   "cell_type": "code",
   "execution_count": 6,
   "metadata": {},
   "outputs": [
    {
     "name": "stdout",
     "output_type": "stream",
     "text": [
      "Lost score: 7.943797153929218\n",
      "Needed final score for 4.0:  77.8\n",
      "Needed final score for A+:  92.5\n"
     ]
    }
   ],
   "source": [
    "# CSC458\n",
    "my_scores = [(0.14, 95.35), (0.16, 80.5), (0.08, 25.5/27 * 100), \n",
    "             (0.08, 49/53 * 100), (0.08, 37/54 * 100), (0.08, 30.5/33 * 100), (0.04, 100)]\n",
    "perc = 0.34\n",
    "bonus = 0\n",
    "calculate_final(perc, my_scores, bonus)"
   ]
  },
  {
   "cell_type": "code",
   "execution_count": null,
   "metadata": {
    "collapsed": true
   },
   "outputs": [],
   "source": []
  }
 ],
 "metadata": {
  "kernelspec": {
   "display_name": "Python 3",
   "language": "python",
   "name": "python3"
  },
  "language_info": {
   "codemirror_mode": {
    "name": "ipython",
    "version": 3
   },
   "file_extension": ".py",
   "mimetype": "text/x-python",
   "name": "python",
   "nbconvert_exporter": "python",
   "pygments_lexer": "ipython3",
   "version": "3.6.6"
  }
 },
 "nbformat": 4,
 "nbformat_minor": 2
}
