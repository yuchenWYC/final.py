{
 "cells": [
  {
   "cell_type": "code",
   "execution_count": 2,
   "metadata": {},
   "outputs": [],
   "source": [
    "def calculate_final(perc: int, scores: list, bonus: int) -> float:\n",
    "    \"\"\"\n",
    "    Print a lower bound score for the final exam in order \n",
    "    to get an A (85)\n",
    "    perc: the weight of the final exam\n",
    "    scores: the scores you have right now, \n",
    "    key is a weight, value is the score you got\n",
    "    \n",
    "    >>> my_scores = [(0.2, 83), (0.25, 100), (0.05, 100)]\n",
    "    >>> perc = 0.5\n",
    "    >>> calculate_final(perc, my_scores, 0)\n",
    "    \"\"\"\n",
    "    my_sum = 0\n",
    "    for pair in scores:\n",
    "        my_sum += pair[0] * pair[1]\n",
    "    lost = 100 * (1 - perc) - my_sum - bonus\n",
    "    print(\"Lost score:\", lost)\n",
    "    print(\"Needed final score for 4.0: \", round(100 - ((15.5 - lost) / perc), 1))\n",
    "    print(\"Needed final score for A+: \", round(100 - ((10.5 - lost) / perc), 1))"
   ]
  },
  {
   "cell_type": "code",
   "execution_count": 55,
   "metadata": {},
   "outputs": [
    {
     "name": "stdout",
     "output_type": "stream",
     "text": [
      "Lost score: 10.25\n",
      "Needed final score for 4.0:  85.0\n",
      "Needed final score for A+:  99.3\n"
     ]
    }
   ],
   "source": [
    "# STA347\n",
    "my_scores = [(0.06, 36/40 * 100), (0.18, 39/40 * 100), (0.06, 37/40 * 100), (0.35, 75)]\n",
    "perc = 0.35\n",
    "bonus = 0\n",
    "calculate_final(perc, my_scores, bonus)"
   ]
  },
  {
   "cell_type": "code",
   "execution_count": 44,
   "metadata": {},
   "outputs": [
    {
     "name": "stdout",
     "output_type": "stream",
     "text": [
      "Lost score: 4.699999999999996\n",
      "Needed final score for 4.0:  73.0\n",
      "Needed final score for A+:  85.5\n"
     ]
    }
   ],
   "source": [
    "# CSC311\n",
    "my_scores = [(0.3, 100), (0.1, 97), (0.20, 78)]\n",
    "perc = 0.4\n",
    "bonus = 0\n",
    "calculate_final(perc, my_scores, bonus)"
   ]
  },
  {
   "cell_type": "code",
   "execution_count": 32,
   "metadata": {},
   "outputs": [
    {
     "name": "stdout",
     "output_type": "stream",
     "text": [
      "Lost score: 3.7307692307692264\n",
      "Needed final score for 4.0:  76.5\n",
      "Needed final score for A+:  86.5\n"
     ]
    }
   ],
   "source": [
    "# APM462\n",
    "my_scores = [(0.1, 19/20 * 100), (0.1, 100), (0.3, 58/65 * 100)]\n",
    "perc = 0.5\n",
    "bonus = 0\n",
    "calculate_final(perc, my_scores, bonus)"
   ]
  },
  {
   "cell_type": "code",
   "execution_count": 38,
   "metadata": {
    "scrolled": true
   },
   "outputs": [
    {
     "name": "stdout",
     "output_type": "stream",
     "text": [
      "Lost score: 1.742424242424235\n",
      "Needed final score for 4.0:  54.1\n",
      "Needed final score for A+:  70.8\n"
     ]
    }
   ],
   "source": [
    "# CSC373\n",
    "my_scores = [(0.3, 95), (0.2, 62/60 * 100), (0.2, 52.5/55 * 100)]\n",
    "perc = 0.3\n",
    "bonus = 0\n",
    "calculate_final(perc, my_scores, bonus)"
   ]
  }
 ],
 "metadata": {
  "kernelspec": {
   "display_name": "Python 3",
   "language": "python",
   "name": "python3"
  },
  "language_info": {
   "codemirror_mode": {
    "name": "ipython",
    "version": 3
   },
   "file_extension": ".py",
   "mimetype": "text/x-python",
   "name": "python",
   "nbconvert_exporter": "python",
   "pygments_lexer": "ipython3",
   "version": "3.6.6"
  }
 },
 "nbformat": 4,
 "nbformat_minor": 2
}
